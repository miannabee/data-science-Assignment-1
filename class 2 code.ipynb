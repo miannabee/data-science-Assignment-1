{
 "cells": [
  {
   "cell_type": "code",
   "execution_count": 1,
   "id": "148ad5d3",
   "metadata": {},
   "outputs": [
    {
     "name": "stdout",
     "output_type": "stream",
     "text": [
      "Hello world\n"
     ]
    }
   ],
   "source": [
    "print(\"Hello world\")"
   ]
  },
  {
   "cell_type": "code",
   "execution_count": 3,
   "id": "cac3edda",
   "metadata": {},
   "outputs": [
    {
     "name": "stdout",
     "output_type": "stream",
     "text": [
      "15\n"
     ]
    }
   ],
   "source": [
    "a = 5;\n",
    "b = 10;\n",
    "c = a + b;\n",
    "print (c)"
   ]
  },
  {
   "cell_type": "code",
   "execution_count": 25,
   "id": "49694d30",
   "metadata": {},
   "outputs": [
    {
     "name": "stdout",
     "output_type": "stream",
     "text": [
      "Muhammad alimughal\n"
     ]
    }
   ],
   "source": [
    "x = \"Muhammad ali\";\n",
    "y = \"mughal\";\n",
    "z = (x + y);\n",
    "print (z);"
   ]
  },
  {
   "cell_type": "code",
   "execution_count": 9,
   "id": "f7088f62",
   "metadata": {},
   "outputs": [
    {
     "name": "stdout",
     "output_type": "stream",
     "text": [
      "48\n"
     ]
    }
   ],
   "source": [
    "f = \"4\";\n",
    "g = \"8\";\n",
    "h = f+g;\n",
    "print(h);\n"
   ]
  },
  {
   "cell_type": "code",
   "execution_count": 10,
   "id": "541051dc",
   "metadata": {},
   "outputs": [
    {
     "ename": "TypeError",
     "evalue": "can only concatenate str (not \"int\") to str",
     "output_type": "error",
     "traceback": [
      "\u001b[1;31m---------------------------------------------------------------------------\u001b[0m",
      "\u001b[1;31mTypeError\u001b[0m                                 Traceback (most recent call last)",
      "\u001b[1;32mC:\\Users\\MIANG~1\\AppData\\Local\\Temp/ipykernel_4552/2432752748.py\u001b[0m in \u001b[0;36m<module>\u001b[1;34m\u001b[0m\n\u001b[0;32m      1\u001b[0m \u001b[0ma\u001b[0m \u001b[1;33m=\u001b[0m \u001b[1;34m\"10\"\u001b[0m\u001b[1;33m;\u001b[0m\u001b[1;33m\u001b[0m\u001b[1;33m\u001b[0m\u001b[0m\n\u001b[0;32m      2\u001b[0m \u001b[0mb\u001b[0m \u001b[1;33m=\u001b[0m \u001b[1;36m20\u001b[0m\u001b[1;33m;\u001b[0m\u001b[1;33m\u001b[0m\u001b[1;33m\u001b[0m\u001b[0m\n\u001b[1;32m----> 3\u001b[1;33m \u001b[0mc\u001b[0m \u001b[1;33m=\u001b[0m \u001b[0ma\u001b[0m \u001b[1;33m+\u001b[0m \u001b[0mb\u001b[0m\u001b[1;33m;\u001b[0m\u001b[1;33m\u001b[0m\u001b[1;33m\u001b[0m\u001b[0m\n\u001b[0m\u001b[0;32m      4\u001b[0m \u001b[0mprint\u001b[0m \u001b[1;33m(\u001b[0m\u001b[0mc\u001b[0m\u001b[1;33m)\u001b[0m\u001b[1;33m;\u001b[0m\u001b[1;33m\u001b[0m\u001b[1;33m\u001b[0m\u001b[0m\n",
      "\u001b[1;31mTypeError\u001b[0m: can only concatenate str (not \"int\") to str"
     ]
    }
   ],
   "source": [
    "a = \"10\";\n",
    "b = 20;\n",
    "c = a + b;\n",
    "print (c);"
   ]
  },
  {
   "cell_type": "code",
   "execution_count": 12,
   "id": "9759d88e",
   "metadata": {},
   "outputs": [
    {
     "name": "stdout",
     "output_type": "stream",
     "text": [
      "8\n"
     ]
    }
   ],
   "source": [
    "x = 8;\n",
    "y = x + 7;\n",
    "z = y - x + 1;\n",
    "print(z);"
   ]
  },
  {
   "cell_type": "code",
   "execution_count": 15,
   "id": "e72ab825",
   "metadata": {},
   "outputs": [
    {
     "ename": "SyntaxError",
     "evalue": "invalid syntax (Temp/ipykernel_4552/2877558037.py, line 1)",
     "output_type": "error",
     "traceback": [
      "\u001b[1;36m  File \u001b[1;32m\"C:\\Users\\MIANG~1\\AppData\\Local\\Temp/ipykernel_4552/2877558037.py\"\u001b[1;36m, line \u001b[1;32m1\u001b[0m\n\u001b[1;33m    a = 12 - 4 / 2 + 9 * 5;      | 12 - 2 + 45 | 12 + 43 | 55\u001b[0m\n\u001b[1;37m                                 ^\u001b[0m\n\u001b[1;31mSyntaxError\u001b[0m\u001b[1;31m:\u001b[0m invalid syntax\n"
     ]
    }
   ],
   "source": [
    "a = 12 - 4 / 2 + 9 * 5;      | 12 - 2 + 45 | 12 + 43 | 55\n",
    "print (a);"
   ]
  },
  {
   "cell_type": "code",
   "execution_count": 17,
   "id": "5b4c6a69",
   "metadata": {},
   "outputs": [
    {
     "name": "stdout",
     "output_type": "stream",
     "text": [
      "3.6363636363636367\n"
     ]
    }
   ],
   "source": [
    "a = ((12 - 4) / (2 + 9) * 5);\n",
    "print(a);"
   ]
  },
  {
   "cell_type": "code",
   "execution_count": 19,
   "id": "d01fb6ee",
   "metadata": {},
   "outputs": [
    {
     "name": "stdout",
     "output_type": "stream",
     "text": [
      "1\n"
     ]
    }
   ],
   "source": [
    "x = 10;\n",
    "y = x%3;\n",
    "print(y);"
   ]
  },
  {
   "cell_type": "code",
   "execution_count": 20,
   "id": "54990221",
   "metadata": {},
   "outputs": [
    {
     "name": "stdout",
     "output_type": "stream",
     "text": [
      "12\n"
     ]
    }
   ],
   "source": [
    "f = 10;\n",
    "f = 12;\n",
    "print(f);"
   ]
  },
  {
   "cell_type": "code",
   "execution_count": 21,
   "id": "2a1588fd",
   "metadata": {},
   "outputs": [
    {
     "name": "stdout",
     "output_type": "stream",
     "text": [
      "7\n"
     ]
    }
   ],
   "source": [
    "g = 5;\n",
    "g = g + 2;\n",
    "print(g);"
   ]
  },
  {
   "cell_type": "code",
   "execution_count": 23,
   "id": "4c583a6e",
   "metadata": {},
   "outputs": [
    {
     "name": "stdout",
     "output_type": "stream",
     "text": [
      "6\n"
     ]
    }
   ],
   "source": [
    "a = 3;\n",
    "a+=3;\n",
    "print(a);"
   ]
  },
  {
   "cell_type": "code",
   "execution_count": 24,
   "id": "8f2cf7bc",
   "metadata": {},
   "outputs": [
    {
     "name": "stdout",
     "output_type": "stream",
     "text": [
      "6\n"
     ]
    }
   ],
   "source": [
    "a = 3;\n",
    "a = a+ 3;\n",
    "print(a);"
   ]
  },
  {
   "cell_type": "code",
   "execution_count": 26,
   "id": "3658b0b2",
   "metadata": {},
   "outputs": [
    {
     "name": "stdout",
     "output_type": "stream",
     "text": [
      "My name is Muhammad Ali Mughal\n"
     ]
    }
   ],
   "source": [
    "a = \"Muhammad Ali Mughal\"\n",
    "print(\"My name is \" + a)"
   ]
  },
  {
   "cell_type": "code",
   "execution_count": 27,
   "id": "40a80b5c",
   "metadata": {},
   "outputs": [
    {
     "name": "stdout",
     "output_type": "stream",
     "text": [
      "Allow for Ride\n"
     ]
    }
   ],
   "source": [
    "gender = \"male\";\n",
    "if gender == \"male\":\n",
    "    print(\"Allow for Ride\");\n"
   ]
  },
  {
   "cell_type": "code",
   "execution_count": 28,
   "id": "0763b32b",
   "metadata": {},
   "outputs": [
    {
     "name": "stdout",
     "output_type": "stream",
     "text": [
      "Rok LO\n"
     ]
    }
   ],
   "source": [
    "gender = \"female\";\n",
    "if gender == \"male\":\n",
    "    print(\"Allow for Ride\");\n",
    "else:\n",
    "    print(\"Rok LO\");"
   ]
  },
  {
   "cell_type": "code",
   "execution_count": 29,
   "id": "5b7550da",
   "metadata": {},
   "outputs": [
    {
     "name": "stdout",
     "output_type": "stream",
     "text": [
      "Allow for Ride\n"
     ]
    }
   ],
   "source": [
    "gender = \"female\";\n",
    "if gender != \"male\":\n",
    "    print(\"Allow for Ride\");\n",
    "else:\n",
    "    print(\"Rok LO\");"
   ]
  },
  {
   "cell_type": "code",
   "execution_count": 30,
   "id": "b8fc10d9",
   "metadata": {},
   "outputs": [
    {
     "name": "stdout",
     "output_type": "stream",
     "text": [
      "Rok LO\n"
     ]
    }
   ],
   "source": [
    "age = 14;\n",
    "gender = \"female\";\n",
    "if age > 18 or gender == \"male\":\n",
    "    print(\"Allow for Ride\");\n",
    "else:\n",
    "    print(\"Rok LO\");"
   ]
  },
  {
   "cell_type": "code",
   "execution_count": 31,
   "id": "f7cb72f4",
   "metadata": {},
   "outputs": [
    {
     "name": "stdout",
     "output_type": "stream",
     "text": [
      "Allow for Ride\n"
     ]
    }
   ],
   "source": [
    "age = 14;\n",
    "gender = \"female\";\n",
    "if age > 10 or gender == \"male\":\n",
    "    print(\"Allow for Ride\");\n",
    "else:\n",
    "    print(\"Rok LO\");"
   ]
  },
  {
   "cell_type": "code",
   "execution_count": 32,
   "id": "aff96af6",
   "metadata": {},
   "outputs": [
    {
     "name": "stdout",
     "output_type": "stream",
     "text": [
      "Grade A+\n"
     ]
    }
   ],
   "source": [
    "percent = 82;\n",
    "if percent < 100 and percent > 80:\n",
    "    print(\"Grade A+\");\n",
    "elif percent < 80 and percent > 70:\n",
    "    print(\"Grade A\");\n",
    "elif percent < 70 and percent > 80:\n",
    "    print(\"Grade B\")\n",
    "else:\n",
    "    print(\"Fail\")"
   ]
  },
  {
   "cell_type": "code",
   "execution_count": 33,
   "id": "7787a9d5",
   "metadata": {},
   "outputs": [
    {
     "name": "stdout",
     "output_type": "stream",
     "text": [
      "Hello Future Data Scientist of Pakistan\n"
     ]
    }
   ],
   "source": [
    "print(\"Hello Future Data Scientist of Pakistan\");"
   ]
  }
 ],
 "metadata": {
  "kernelspec": {
   "display_name": "Python 3 (ipykernel)",
   "language": "python",
   "name": "python3"
  },
  "language_info": {
   "codemirror_mode": {
    "name": "ipython",
    "version": 3
   },
   "file_extension": ".py",
   "mimetype": "text/x-python",
   "name": "python",
   "nbconvert_exporter": "python",
   "pygments_lexer": "ipython3",
   "version": "3.9.7"
  }
 },
 "nbformat": 4,
 "nbformat_minor": 5
}
